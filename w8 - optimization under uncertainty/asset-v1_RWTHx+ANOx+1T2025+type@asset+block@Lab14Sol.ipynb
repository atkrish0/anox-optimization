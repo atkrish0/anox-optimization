{
 "cells": [
  {
   "cell_type": "markdown",
   "metadata": {},
   "source": [
    "<div>\n",
    "<img src=\"svtLogo.png\"/>\n",
    "</div>\n",
    "<h1><center>Mathematical Optimization for Engineers</center></h1>\n",
    "<h2><center>Lab 14 - Uncertainty</center></h2>"
   ]
  },
  {
   "cell_type": "markdown",
   "metadata": {},
   "source": [
    "We want to optimize the total annualized cost of a heating and electric power system. Three different technologies are present: \n",
    "- a gas boiler\n",
    "- a combined heat and power plant\n",
    "- a photovoltaic module\n",
    "\n",
    "We first the the nominal case without uncertanties. \n",
    "Next, we will consider a two-stage approach to consider uncertainties in the electricity demand and the power producable via PV. \n",
    "Uncertain variables are the solar power and the power demand. "
   ]
  },
  {
   "cell_type": "code",
   "execution_count": 1,
   "metadata": {},
   "outputs": [],
   "source": [
    "# import cell\n",
    "from scipy.optimize import minimize, NonlinearConstraint, Bounds"
   ]
  },
  {
   "cell_type": "code",
   "execution_count": 2,
   "metadata": {},
   "outputs": [],
   "source": [
    "class Boiler():\n",
    "    \"\"\"Boiler \n",
    "    Gas in, heat out\n",
    "    \"\"\"\n",
    "    \n",
    "    def __init__(self):\n",
    "        self.M = 0.75  \n",
    "        \n",
    "    def invest_cost(self, Qdot_nom):\n",
    "        inv = 100 * Qdot_nom ** self.M\n",
    "        return inv\n",
    "    \n",
    "    def oper_cost(self, Qdot_nom, op_load): \n",
    "        cost_gas = 60\n",
    "        cost_gas_oper = Qdot_nom * cost_gas * op_load\n",
    "        \n",
    "        return cost_gas_oper\n",
    "    \n",
    "    def heat(self, Qdot_nom, op_load):\n",
    "        eta_th = 0.9 - (1 - op_load) * 0.05\n",
    "        return Qdot_nom * op_load * eta_th\n",
    "    "
   ]
  },
  {
   "cell_type": "code",
   "execution_count": 3,
   "metadata": {},
   "outputs": [],
   "source": [
    "class CHP():\n",
    "    \"\"\"Combined-heat-and-power (CHP) engine \n",
    "    Gas in, heat and power out\n",
    "    \"\"\"\n",
    "\n",
    "    def __init__(self):\n",
    "        self.c_ref = 150\n",
    "        self.M = 0.85  # [-], cost exponent\n",
    "        self.cost_gas = 60\n",
    "    \n",
    "    def invest_cost(self, Qdot_nom):\n",
    "        inv = self.c_ref * (Qdot_nom) ** self.M\n",
    "        return inv\n",
    "    \n",
    "    def oper_cost(self, Qdot_nom, op_load): \n",
    "        cost_gas_oper = Qdot_nom * op_load * self.cost_gas\n",
    "        return cost_gas_oper\n",
    "    \n",
    "    def elec_out(self, Qdot_nom, op_load):\n",
    "        eta_el = 0.3 - (1 - op_load) * 0.1\n",
    "        out_pow = eta_el * Qdot_nom * op_load\n",
    "        return out_pow\n",
    "    \n",
    "    def heat(self, Qdot_nom, op_load): \n",
    "        eta_th = 0.6 - (1-op_load) * 0.05  \n",
    "        return Qdot_nom * eta_th * op_load\n"
   ]
  },
  {
   "cell_type": "code",
   "execution_count": 4,
   "metadata": {},
   "outputs": [],
   "source": [
    "class PV:\n",
    "    \"\"\"Photovoltaic modules (PV) \n",
    "    solar \n",
    "    \"\"\" \n",
    "    \n",
    "    def __init__(self): \n",
    "        self.M = 0.9  # [-], cost exponent\n",
    "       \n",
    "    def invest_cost(self, p_nom):\n",
    "        inv = 200 * p_nom ** self.M\n",
    "        return inv\n",
    "    \n",
    "    def oper_cost(self, out_nom): \n",
    "        return 0\n",
    "    \n",
    "    def elec_out(self, p_nom, op_load, solar):\n",
    "        return p_nom * op_load * solar\n",
    "    "
   ]
  },
  {
   "cell_type": "code",
   "execution_count": 5,
   "metadata": {},
   "outputs": [],
   "source": [
    "def objective_function(x, PV, Boiler, CHP, scenarios):\n",
    "    total_cost = 0\n",
    "    design_PV = x[0]  \n",
    "    design_boiler = x[1]  \n",
    "    design_CHP = x[2] \n",
    "    \n",
    "    cost_PV = PV.invest_cost(design_PV) \n",
    "    cost_Boiler = Boiler.invest_cost(design_boiler)  \n",
    "    cost_CHP = CHP.invest_cost(design_CHP) \n",
    "        \n",
    "    total_cost = cost_PV + cost_Boiler + cost_CHP\n",
    "    operating_cost = 0\n",
    "    \n",
    "    iIndexShift = 3\n",
    "    for idx, iSec in enumerate(scenarios): \n",
    "        indexOffset = 3 + idx * iIndexShift\n",
    "        \n",
    "        op_cost = Boiler.oper_cost(design_boiler, x[indexOffset]) \\\n",
    "             + CHP.oper_cost(design_CHP, x[indexOffset + 1])\n",
    "        total_cost = total_cost + iSec[\"p\"] * op_cost\n",
    "        \n",
    "   \n",
    "    return total_cost"
   ]
  },
  {
   "cell_type": "code",
   "execution_count": 6,
   "metadata": {},
   "outputs": [],
   "source": [
    "def constraint_function(x, PV, Boiler, CHP, scenarios): \n",
    "    heat_demand = 200\n",
    "    c = list  \n",
    "    c = [0]\n",
    "    design_PV = x[0]  \n",
    "    design_boiler = x[1]  \n",
    "    design_CHP = x[2]  \n",
    "\n",
    "    # loop over all uncertatintes\n",
    "    iIndexShift = 3\n",
    "    for idx, iSec in enumerate(scenarios): \n",
    "        indexOffset = 3 + idx * iIndexShift\n",
    "        elec_demand = iSec[\"elec\"]\n",
    "        \n",
    "        # heat demand\n",
    "        c.append(Boiler.heat(design_boiler, x[indexOffset]) \\\n",
    "             + CHP.heat(design_CHP, x[indexOffset + 1]) - heat_demand)     \n",
    "        # electricty demand \n",
    "        c.append(PV.elec_out(design_PV, x[indexOffset], iSec[\"solar\"])\n",
    "              + CHP.elec_out(design_CHP, x[indexOffset + 1]) - elec_demand)\n",
    "    # remove initial list element       \n",
    "    c.pop(0)\n",
    "    return c"
   ]
  },
  {
   "cell_type": "code",
   "execution_count": 7,
   "metadata": {},
   "outputs": [],
   "source": [
    "def print_solution(x):\n",
    "    print('PV design: ', x[0])\n",
    "    print('Boiler design: ', x[1])\n",
    "    print('CHP design: ', x[2])\n",
    "    "
   ]
  },
  {
   "cell_type": "code",
   "execution_count": 8,
   "metadata": {},
   "outputs": [],
   "source": [
    "# nominal case\n",
    "scenario1 = {\"p\": 1.0, \"solar\":1.0, \"elec\": 100}\n",
    "scenarios = [scenario1] # some base scenario\n"
   ]
  },
  {
   "cell_type": "code",
   "execution_count": 9,
   "metadata": {},
   "outputs": [],
   "source": [
    "# now consider different scenarios\n",
    "myPV = PV()\n",
    "myBoiler = Boiler()\n",
    "myCHP = CHP()\n",
    "cons = lambda x: constraint_function(x, myPV, myBoiler, myCHP, scenarios)\n",
    "obj = lambda x: objective_function(x, myPV, myBoiler, myCHP, scenarios)\n",
    "nonlinear_constraints = NonlinearConstraint(cons, 0, 0)\n",
    "# bounds for operation 0 . 1\n",
    "x_guess = [200,200,200, 1,1,1 ]\n",
    "lbs = [0, 0, 0, 0, 0, 0]\n",
    "ubs = [10000, 10000, 10000, 1, 1, 1]\n",
    "bnds = Bounds(lbs, ubs)\n",
    "\n"
   ]
  },
  {
   "cell_type": "code",
   "execution_count": 10,
   "metadata": {},
   "outputs": [
    {
     "name": "stdout",
     "output_type": "stream",
     "text": [
      "  NIT    FC           OBJFUN            GNORM\n",
      "    1     8     6.641731E+04     1.697149E+04\n",
      "    2    16     4.385067E+04     1.461622E+04\n",
      "    3    24     3.104611E+04     1.011635E+04\n",
      "    4    32     3.412252E+04     1.194103E+04\n",
      "    9    40     3.170808E+04     1.353084E+04\n",
      "Positive directional derivative for linesearch    (Exit mode 8)\n",
      "            Current function value: 31708.08358186242\n",
      "            Iterations: 9\n",
      "            Function evaluations: 40\n",
      "            Gradient evaluations: 5\n"
     ]
    }
   ],
   "source": [
    "res = minimize(obj, x_guess, method = 'SLSQP', bounds=bnds,\n",
    "               constraints = nonlinear_constraints,\n",
    "               options={\"maxiter\": 15, 'iprint': 2, 'disp': True})\n"
   ]
  },
  {
   "cell_type": "code",
   "execution_count": 11,
   "metadata": {},
   "outputs": [
    {
     "name": "stdout",
     "output_type": "stream",
     "text": [
      "[100.00000789 222.22225144   0.           1.           1.\n",
      "   1.        ]\n"
     ]
    }
   ],
   "source": [
    "print(res.x)"
   ]
  },
  {
   "cell_type": "code",
   "execution_count": 12,
   "metadata": {},
   "outputs": [
    {
     "name": "stdout",
     "output_type": "stream",
     "text": [
      "PV design:  100.00000788759881\n",
      "Boiler design:  222.22225144020462\n",
      "CHP design:  0.0\n"
     ]
    }
   ],
   "source": [
    "print_solution(res.x)"
   ]
  },
  {
   "cell_type": "code",
   "execution_count": 13,
   "metadata": {},
   "outputs": [
    {
     "name": "stdout",
     "output_type": "stream",
     "text": [
      "[{'p': 0.4, 'solar': 1.0, 'elec': 100}, {'p': 0.3, 'solar': 1.0, 'elec': 120}, {'p': 0.3, 'solar': 0.5, 'elec': 80}]\n"
     ]
    }
   ],
   "source": [
    "# nominal \n",
    "# uncertanties: power demand and solar power (relative 1.0)\n",
    "scenario1 = {\"p\": 0.40, \"solar\":1.0, \"elec\": 100}\n",
    "scenario2 = {\"p\": 0.3, \"solar\":1.0, \"elec\": 120}\n",
    "scenario3 = {\"p\": 0.3, \"solar\":0.5, \"elec\": 80}\n",
    "\n",
    "scenarios = [scenario1] # some base scenario\n",
    "scenarios.append(scenario2)\n",
    "scenarios.append(scenario3)\n",
    "\n",
    "print(scenarios)"
   ]
  },
  {
   "cell_type": "code",
   "execution_count": 14,
   "metadata": {},
   "outputs": [
    {
     "name": "stdout",
     "output_type": "stream",
     "text": [
      "  NIT    FC           OBJFUN            GNORM\n",
      "    1    14     6.641731E+04     9.897042E+03\n",
      "    2    28     4.957814E+04     9.011641E+03\n",
      "    3    42     5.279361E+04     1.171438E+04\n",
      "    4    56     5.787383E+04     1.388065E+04\n",
      "    5    70     5.615782E+04     1.304099E+04\n",
      "    6    84     5.597843E+04     1.302393E+04\n",
      "    7    98     5.375643E+04     1.252509E+04\n",
      "    8   112     5.277753E+04     1.236363E+04\n",
      "    9   126     5.295557E+04     1.238931E+04\n",
      "   10   140     5.295484E+04     1.238924E+04\n",
      "Optimization terminated successfully.    (Exit mode 0)\n",
      "            Current function value: 52954.835161945666\n",
      "            Iterations: 10\n",
      "            Function evaluations: 141\n",
      "            Gradient evaluations: 10\n"
     ]
    }
   ],
   "source": [
    "myPV = PV()\n",
    "myBoiler = Boiler()\n",
    "myCHP = CHP()\n",
    "cons = lambda x: constraint_function(x, myPV, myBoiler, myCHP, scenarios)\n",
    "obj = lambda x: objective_function(x, myPV, myBoiler, myCHP, scenarios)\n",
    "nonlinear_constraints = NonlinearConstraint(cons, 0, 0)\n",
    "# bounds for operation 0 . 1\n",
    "x_guess = [200,200,200, 1,1,1, 1,1,1, 1,1,1 ]\n",
    "lbs = [0, 0, 0,   0, 0, 0,  0, 0, 0,  0, 0, 0]\n",
    "ubs = [10000, 10000, 10000, 1, 1, 1, 1, 1, 1, 1, 1, 1]\n",
    "bnds = Bounds(lbs, ubs)\n",
    "\n",
    "res = minimize(obj, x_guess, method = 'SLSQP', bounds=bnds,\n",
    "               constraints = nonlinear_constraints,\n",
    "               options={\"maxiter\": 15, 'iprint': 2, 'disp': True})"
   ]
  },
  {
   "cell_type": "code",
   "execution_count": 15,
   "metadata": {},
   "outputs": [
    {
     "name": "stdout",
     "output_type": "stream",
     "text": [
      "PV design:  80.00000000000247\n",
      "Boiler design:  119.46005043013979\n",
      "CHP design:  333.3333333333102\n"
     ]
    }
   ],
   "source": [
    "print_solution(res.x)"
   ]
  },
  {
   "cell_type": "code",
   "execution_count": null,
   "metadata": {},
   "outputs": [],
   "source": []
  }
 ],
 "metadata": {
  "kernelspec": {
   "display_name": "Python 3",
   "language": "python",
   "name": "python3"
  },
  "language_info": {
   "codemirror_mode": {
    "name": "ipython",
    "version": 3
   },
   "file_extension": ".py",
   "mimetype": "text/x-python",
   "name": "python",
   "nbconvert_exporter": "python",
   "pygments_lexer": "ipython3",
   "version": "3.6.8"
  }
 },
 "nbformat": 4,
 "nbformat_minor": 5
}
